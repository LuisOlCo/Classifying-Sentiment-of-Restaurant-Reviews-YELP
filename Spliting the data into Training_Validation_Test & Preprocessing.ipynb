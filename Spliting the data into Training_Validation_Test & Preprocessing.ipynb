{
 "cells": [
  {
   "cell_type": "code",
   "execution_count": 1,
   "metadata": {},
   "outputs": [],
   "source": [
    "import pandas as pd\n",
    "import collections\n",
    "import numpy as np\n",
    "import re"
   ]
  },
  {
   "cell_type": "markdown",
   "metadata": {},
   "source": [
    "## Preprocessing"
   ]
  },
  {
   "cell_type": "code",
   "execution_count": 2,
   "metadata": {},
   "outputs": [],
   "source": [
    "def preprocess_text(text):\n",
    "    text = text.lower()\n",
    "    text = re.sub(r'([.,!?])',r' \\1 ', text)\n",
    "    text = re.sub(r'[^a-zA-z.,!?]+', r' ', text)\n",
    "    return text\n"
   ]
  },
  {
   "cell_type": "code",
   "execution_count": 3,
   "metadata": {},
   "outputs": [],
   "source": [
    "sample_text = 'First visit...Had lunch here today - used my G'\n",
    "aa = preprocess_text(sample_text)"
   ]
  },
  {
   "cell_type": "code",
   "execution_count": 4,
   "metadata": {},
   "outputs": [
    {
     "data": {
      "text/plain": [
       "'first visit . . . had lunch here today used my g'"
      ]
     },
     "execution_count": 4,
     "metadata": {},
     "output_type": "execute_result"
    }
   ],
   "source": [
    "aa"
   ]
  },
  {
   "cell_type": "markdown",
   "metadata": {},
   "source": [
    "## Split Data"
   ]
  },
  {
   "cell_type": "markdown",
   "metadata": {},
   "source": [
    "##### We want to split the data into three groups and we are goin to put the same amount of samples of the different classes in all the three partitions, special interest on the training partion."
   ]
  },
  {
   "cell_type": "code",
   "execution_count": 5,
   "metadata": {},
   "outputs": [],
   "source": [
    "data = pd.read_csv('yelp.csv')"
   ]
  },
  {
   "cell_type": "code",
   "execution_count": 6,
   "metadata": {
    "scrolled": true
   },
   "outputs": [
    {
     "data": {
      "text/plain": [
       "Index(['business_id', 'date', 'review_id', 'stars', 'text', 'type', 'user_id',\n",
       "       'cool', 'useful', 'funny'],\n",
       "      dtype='object')"
      ]
     },
     "execution_count": 6,
     "metadata": {},
     "output_type": "execute_result"
    }
   ],
   "source": [
    "data.columns"
   ]
  },
  {
   "cell_type": "code",
   "execution_count": 7,
   "metadata": {
    "scrolled": true
   },
   "outputs": [
    {
     "data": {
      "text/html": [
       "<div>\n",
       "<style scoped>\n",
       "    .dataframe tbody tr th:only-of-type {\n",
       "        vertical-align: middle;\n",
       "    }\n",
       "\n",
       "    .dataframe tbody tr th {\n",
       "        vertical-align: top;\n",
       "    }\n",
       "\n",
       "    .dataframe thead th {\n",
       "        text-align: right;\n",
       "    }\n",
       "</style>\n",
       "<table border=\"1\" class=\"dataframe\">\n",
       "  <thead>\n",
       "    <tr style=\"text-align: right;\">\n",
       "      <th></th>\n",
       "      <th>stars</th>\n",
       "      <th>text</th>\n",
       "    </tr>\n",
       "    <tr>\n",
       "      <th>review_id</th>\n",
       "      <th></th>\n",
       "      <th></th>\n",
       "    </tr>\n",
       "  </thead>\n",
       "  <tbody>\n",
       "    <tr>\n",
       "      <th>fWKvX83p0-ka4JS3dc6E5A</th>\n",
       "      <td>5</td>\n",
       "      <td>My wife took me here on my birthday for breakf...</td>\n",
       "    </tr>\n",
       "    <tr>\n",
       "      <th>IjZ33sJrzXqU-0X6U8NwyA</th>\n",
       "      <td>5</td>\n",
       "      <td>I have no idea why some people give bad review...</td>\n",
       "    </tr>\n",
       "    <tr>\n",
       "      <th>IESLBzqUCLdSzSqm0eCSxQ</th>\n",
       "      <td>4</td>\n",
       "      <td>love the gyro plate. Rice is so good and I als...</td>\n",
       "    </tr>\n",
       "    <tr>\n",
       "      <th>G-WvGaISbqqaMHlNnByodA</th>\n",
       "      <td>5</td>\n",
       "      <td>Rosie, Dakota, and I LOVE Chaparral Dog Park!!...</td>\n",
       "    </tr>\n",
       "    <tr>\n",
       "      <th>1uJFq2r5QfJG_6ExMRCaGw</th>\n",
       "      <td>5</td>\n",
       "      <td>General Manager Scott Petello is a good egg!!!...</td>\n",
       "    </tr>\n",
       "    <tr>\n",
       "      <th>...</th>\n",
       "      <td>...</td>\n",
       "      <td>...</td>\n",
       "    </tr>\n",
       "    <tr>\n",
       "      <th>Ubyfp2RSDYW0g7Mbr8N3iA</th>\n",
       "      <td>3</td>\n",
       "      <td>First visit...Had lunch here today - used my G...</td>\n",
       "    </tr>\n",
       "    <tr>\n",
       "      <th>2XyIOQKbVFb6uXQdJ0RzlQ</th>\n",
       "      <td>4</td>\n",
       "      <td>Should be called house of deliciousness!\\n\\nI ...</td>\n",
       "    </tr>\n",
       "    <tr>\n",
       "      <th>jyznYkIbpqVmlsZxSDSypA</th>\n",
       "      <td>4</td>\n",
       "      <td>I recently visited Olive and Ivy for business ...</td>\n",
       "    </tr>\n",
       "    <tr>\n",
       "      <th>5UKq9WQE1qQbJ0DJbc-B6Q</th>\n",
       "      <td>2</td>\n",
       "      <td>My nephew just moved to Scottsdale recently so...</td>\n",
       "    </tr>\n",
       "    <tr>\n",
       "      <th>vWSmOhg2ID1MNZHaWapGbA</th>\n",
       "      <td>5</td>\n",
       "      <td>4-5 locations.. all 4.5 star average.. I think...</td>\n",
       "    </tr>\n",
       "  </tbody>\n",
       "</table>\n",
       "<p>10000 rows × 2 columns</p>\n",
       "</div>"
      ],
      "text/plain": [
       "                        stars  \\\n",
       "review_id                       \n",
       "fWKvX83p0-ka4JS3dc6E5A      5   \n",
       "IjZ33sJrzXqU-0X6U8NwyA      5   \n",
       "IESLBzqUCLdSzSqm0eCSxQ      4   \n",
       "G-WvGaISbqqaMHlNnByodA      5   \n",
       "1uJFq2r5QfJG_6ExMRCaGw      5   \n",
       "...                       ...   \n",
       "Ubyfp2RSDYW0g7Mbr8N3iA      3   \n",
       "2XyIOQKbVFb6uXQdJ0RzlQ      4   \n",
       "jyznYkIbpqVmlsZxSDSypA      4   \n",
       "5UKq9WQE1qQbJ0DJbc-B6Q      2   \n",
       "vWSmOhg2ID1MNZHaWapGbA      5   \n",
       "\n",
       "                                                                     text  \n",
       "review_id                                                                  \n",
       "fWKvX83p0-ka4JS3dc6E5A  My wife took me here on my birthday for breakf...  \n",
       "IjZ33sJrzXqU-0X6U8NwyA  I have no idea why some people give bad review...  \n",
       "IESLBzqUCLdSzSqm0eCSxQ  love the gyro plate. Rice is so good and I als...  \n",
       "G-WvGaISbqqaMHlNnByodA  Rosie, Dakota, and I LOVE Chaparral Dog Park!!...  \n",
       "1uJFq2r5QfJG_6ExMRCaGw  General Manager Scott Petello is a good egg!!!...  \n",
       "...                                                                   ...  \n",
       "Ubyfp2RSDYW0g7Mbr8N3iA  First visit...Had lunch here today - used my G...  \n",
       "2XyIOQKbVFb6uXQdJ0RzlQ  Should be called house of deliciousness!\\n\\nI ...  \n",
       "jyznYkIbpqVmlsZxSDSypA  I recently visited Olive and Ivy for business ...  \n",
       "5UKq9WQE1qQbJ0DJbc-B6Q  My nephew just moved to Scottsdale recently so...  \n",
       "vWSmOhg2ID1MNZHaWapGbA  4-5 locations.. all 4.5 star average.. I think...  \n",
       "\n",
       "[10000 rows x 2 columns]"
      ]
     },
     "execution_count": 7,
     "metadata": {},
     "output_type": "execute_result"
    }
   ],
   "source": [
    "# We dont care about the rest of the columns, just the review_id, stars and text columns\n",
    "data = data.loc[:,['review_id','stars','text']]\n",
    "data.set_index(['review_id'])"
   ]
  },
  {
   "cell_type": "code",
   "execution_count": 8,
   "metadata": {},
   "outputs": [],
   "source": [
    "# We do the preprocessing previous we start spliting, so we dont have to do it again fro each subdataset\n",
    "\n",
    "for i in range(len(data.iloc[:,2])):\n",
    "    data.iloc[i,2] = preprocess_text(data.iloc[i,2])"
   ]
  },
  {
   "cell_type": "code",
   "execution_count": 9,
   "metadata": {},
   "outputs": [
    {
     "data": {
      "text/html": [
       "<div>\n",
       "<style scoped>\n",
       "    .dataframe tbody tr th:only-of-type {\n",
       "        vertical-align: middle;\n",
       "    }\n",
       "\n",
       "    .dataframe tbody tr th {\n",
       "        vertical-align: top;\n",
       "    }\n",
       "\n",
       "    .dataframe thead th {\n",
       "        text-align: right;\n",
       "    }\n",
       "</style>\n",
       "<table border=\"1\" class=\"dataframe\">\n",
       "  <thead>\n",
       "    <tr style=\"text-align: right;\">\n",
       "      <th></th>\n",
       "      <th>review_id</th>\n",
       "      <th>stars</th>\n",
       "      <th>text</th>\n",
       "    </tr>\n",
       "  </thead>\n",
       "  <tbody>\n",
       "    <tr>\n",
       "      <th>0</th>\n",
       "      <td>fWKvX83p0-ka4JS3dc6E5A</td>\n",
       "      <td>5</td>\n",
       "      <td>my wife took me here on my birthday for breakf...</td>\n",
       "    </tr>\n",
       "    <tr>\n",
       "      <th>1</th>\n",
       "      <td>IjZ33sJrzXqU-0X6U8NwyA</td>\n",
       "      <td>5</td>\n",
       "      <td>i have no idea why some people give bad review...</td>\n",
       "    </tr>\n",
       "    <tr>\n",
       "      <th>2</th>\n",
       "      <td>IESLBzqUCLdSzSqm0eCSxQ</td>\n",
       "      <td>4</td>\n",
       "      <td>love the gyro plate . rice is so good and i al...</td>\n",
       "    </tr>\n",
       "    <tr>\n",
       "      <th>3</th>\n",
       "      <td>G-WvGaISbqqaMHlNnByodA</td>\n",
       "      <td>5</td>\n",
       "      <td>rosie , dakota , and i love chaparral dog park...</td>\n",
       "    </tr>\n",
       "    <tr>\n",
       "      <th>4</th>\n",
       "      <td>1uJFq2r5QfJG_6ExMRCaGw</td>\n",
       "      <td>5</td>\n",
       "      <td>general manager scott petello is a good egg ! ...</td>\n",
       "    </tr>\n",
       "    <tr>\n",
       "      <th>...</th>\n",
       "      <td>...</td>\n",
       "      <td>...</td>\n",
       "      <td>...</td>\n",
       "    </tr>\n",
       "    <tr>\n",
       "      <th>9995</th>\n",
       "      <td>Ubyfp2RSDYW0g7Mbr8N3iA</td>\n",
       "      <td>3</td>\n",
       "      <td>first visit . . . had lunch here today used my...</td>\n",
       "    </tr>\n",
       "    <tr>\n",
       "      <th>9996</th>\n",
       "      <td>2XyIOQKbVFb6uXQdJ0RzlQ</td>\n",
       "      <td>4</td>\n",
       "      <td>should be called house of deliciousness ! i co...</td>\n",
       "    </tr>\n",
       "    <tr>\n",
       "      <th>9997</th>\n",
       "      <td>jyznYkIbpqVmlsZxSDSypA</td>\n",
       "      <td>4</td>\n",
       "      <td>i recently visited olive and ivy for business ...</td>\n",
       "    </tr>\n",
       "    <tr>\n",
       "      <th>9998</th>\n",
       "      <td>5UKq9WQE1qQbJ0DJbc-B6Q</td>\n",
       "      <td>2</td>\n",
       "      <td>my nephew just moved to scottsdale recently so...</td>\n",
       "    </tr>\n",
       "    <tr>\n",
       "      <th>9999</th>\n",
       "      <td>vWSmOhg2ID1MNZHaWapGbA</td>\n",
       "      <td>5</td>\n",
       "      <td>locations . . all . star average . . i think ...</td>\n",
       "    </tr>\n",
       "  </tbody>\n",
       "</table>\n",
       "<p>10000 rows × 3 columns</p>\n",
       "</div>"
      ],
      "text/plain": [
       "                   review_id  stars  \\\n",
       "0     fWKvX83p0-ka4JS3dc6E5A      5   \n",
       "1     IjZ33sJrzXqU-0X6U8NwyA      5   \n",
       "2     IESLBzqUCLdSzSqm0eCSxQ      4   \n",
       "3     G-WvGaISbqqaMHlNnByodA      5   \n",
       "4     1uJFq2r5QfJG_6ExMRCaGw      5   \n",
       "...                      ...    ...   \n",
       "9995  Ubyfp2RSDYW0g7Mbr8N3iA      3   \n",
       "9996  2XyIOQKbVFb6uXQdJ0RzlQ      4   \n",
       "9997  jyznYkIbpqVmlsZxSDSypA      4   \n",
       "9998  5UKq9WQE1qQbJ0DJbc-B6Q      2   \n",
       "9999  vWSmOhg2ID1MNZHaWapGbA      5   \n",
       "\n",
       "                                                   text  \n",
       "0     my wife took me here on my birthday for breakf...  \n",
       "1     i have no idea why some people give bad review...  \n",
       "2     love the gyro plate . rice is so good and i al...  \n",
       "3     rosie , dakota , and i love chaparral dog park...  \n",
       "4     general manager scott petello is a good egg ! ...  \n",
       "...                                                 ...  \n",
       "9995  first visit . . . had lunch here today used my...  \n",
       "9996  should be called house of deliciousness ! i co...  \n",
       "9997  i recently visited olive and ivy for business ...  \n",
       "9998  my nephew just moved to scottsdale recently so...  \n",
       "9999   locations . . all . star average . . i think ...  \n",
       "\n",
       "[10000 rows x 3 columns]"
      ]
     },
     "execution_count": 9,
     "metadata": {},
     "output_type": "execute_result"
    }
   ],
   "source": [
    "data"
   ]
  },
  {
   "cell_type": "code",
   "execution_count": 10,
   "metadata": {},
   "outputs": [],
   "source": [
    "# We are interesting in the stars given and the comment, but we are going to count the number of samples of each type"
   ]
  },
  {
   "cell_type": "code",
   "execution_count": 11,
   "metadata": {},
   "outputs": [],
   "source": [
    "# Create a function that is going to return a DataFrame with all the samples of one class from the whole dataset\n",
    "# We give to this class the dataset and the class label\n",
    "\n",
    "def clustering(label, data):\n",
    "    samples_class_label = []\n",
    "    for i in range(len(data)):\n",
    "        if data.iloc[i,1] == label:\n",
    "            samples_class_label.append(data.iloc[i,:])\n",
    "    return samples_class_label\n",
    "\n",
    "stars_5 = pd.DataFrame(clustering(5,data)).set_index(['review_id'])\n",
    "stars_4 = pd.DataFrame(clustering(4,data)).set_index(['review_id'])\n",
    "stars_3 = pd.DataFrame(clustering(3,data)).set_index(['review_id'])\n",
    "stars_2 = pd.DataFrame(clustering(2,data)).set_index(['review_id'])\n",
    "stars_1 = pd.DataFrame(clustering(1,data)).set_index(['review_id'])"
   ]
  },
  {
   "cell_type": "markdown",
   "metadata": {},
   "source": [
    "#### We are going to keep a proportion of the classes in the three partitions, one way to proceed would be to say 70% for training, 10% validation and 20% test, and apply this criteria for the 5 groups of samples that we got in the prvious statement"
   ]
  },
  {
   "cell_type": "code",
   "execution_count": 12,
   "metadata": {},
   "outputs": [],
   "source": [
    "def partition(data_class_label):\n",
    "    num_samples = len(data_class_label)\n",
    "    n_samples_train = round(0.7 * num_samples)\n",
    "    n_samples_test = round(0.2 * num_samples)\n",
    "    n_samples_validation = n_samples_train - n_samples_test\n",
    "    \n",
    "    train = data_class_label.iloc[:n_samples_train,:]\n",
    "    test = data_class_label.iloc[n_samples_train:n_samples_train + n_samples_test,:]\n",
    "    validation = data_class_label.iloc[n_samples_train + n_samples_test :,:]\n",
    "    \n",
    "    return train,test,validation"
   ]
  },
  {
   "cell_type": "code",
   "execution_count": 13,
   "metadata": {},
   "outputs": [],
   "source": [
    "# We are going to create three pandas objects with the data corresponding to train, test and validation\n",
    "\n",
    "train = pd.DataFrame()\n",
    "test = pd.DataFrame()\n",
    "validation = pd.DataFrame()\n",
    "total = [stars_5,stars_4,stars_3,stars_2,stars_1]\n",
    "\n",
    "for dataset_class in total:\n",
    "    \n",
    "    train_subset = []\n",
    "    test_subset = []\n",
    "    validation_subset = []\n",
    "    \n",
    "    train_subset,test_subset,validation_subset = partition(dataset_class)\n",
    "    \n",
    "    train = train.append(pd.DataFrame(train_subset),ignore_index=True)\n",
    "    test = test.append(pd.DataFrame(test_subset),ignore_index=True)\n",
    "    validation = validation.append(pd.DataFrame(validation_subset),ignore_index=True)"
   ]
  },
  {
   "cell_type": "code",
   "execution_count": 17,
   "metadata": {},
   "outputs": [],
   "source": [
    "# Now we shuffle the rows df.sample(frac=1)\n",
    "train = train.sample(frac=1)\n",
    "test = test.sample(frac=1)\n",
    "validation = validation.sample(frac=1)\n",
    "\n",
    "# And now we save them on csv files\n",
    "train.to_csv('train.csv',index=False)\n",
    "test.to_csv('test.csv',index=False)\n",
    "validation.to_csv('validation.csv',index=False)"
   ]
  },
  {
   "cell_type": "code",
   "execution_count": null,
   "metadata": {},
   "outputs": [],
   "source": []
  }
 ],
 "metadata": {
  "kernelspec": {
   "display_name": "Python 3",
   "language": "python",
   "name": "python3"
  },
  "language_info": {
   "codemirror_mode": {
    "name": "ipython",
    "version": 3
   },
   "file_extension": ".py",
   "mimetype": "text/x-python",
   "name": "python",
   "nbconvert_exporter": "python",
   "pygments_lexer": "ipython3",
   "version": "3.6.1"
  }
 },
 "nbformat": 4,
 "nbformat_minor": 2
}
