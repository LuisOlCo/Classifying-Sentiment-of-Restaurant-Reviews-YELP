{
 "cells": [
  {
   "cell_type": "code",
   "execution_count": 1,
   "metadata": {},
   "outputs": [],
   "source": [
    "import torch \n",
    "import pandas as pd\n",
    "import collections\n",
    "import numpy as np\n",
    "import string\n",
    "\n",
    "from torch.utils.data import Dataset\n",
    "from torch.utils.data import DataLoader\n",
    "import torch.nn as nn\n",
    "import torch.nn.functional as F\n",
    "import torch.optim as optim\n",
    "import matplotlib.pyplot as plt"
   ]
  },
  {
   "cell_type": "code",
   "execution_count": 2,
   "metadata": {},
   "outputs": [],
   "source": [
    "class vocabulary(object):\n",
    "\n",
    "    def __init__(self, token_to_idx = None, add_unk = True, unk_token = '<UNK>'):\n",
    "        \n",
    "        # Creating the dictionary that will contain the mapping from words to integers\n",
    "        if token_to_idx is None:\n",
    "            token_to_index = {}\n",
    "            \n",
    "        self._token_to_idx = token_to_index\n",
    "        \n",
    "        # We also create a local dictionary for mapping from integers to tokens/words\n",
    "        self._idx_to_token = {idx : token\n",
    "                             for token, idx in self._token_to_idx.items()}\n",
    "        \n",
    "        # Defining more local variables\n",
    "        self._add_unk = add_unk\n",
    "        self._unk_token = unk_token\n",
    "        \n",
    "        self.unk_index = -1\n",
    "        if add_unk:\n",
    "            self.unk_index = self.add_token(unk_token)\n",
    "        \n",
    "        \n",
    "        \n",
    "    # THIS FUNCTION ALLOWS US TO ADD NEW TOKENS TO OUR DICTIONARY, returns the index of a token in the dictionary if\n",
    "    # it exists, if it does not, then the token and index are created in both dictionaries\n",
    "    def add_token(self,token):\n",
    "            \n",
    "        if token in self._token_to_idx:\n",
    "            index = self._token_to_idx[token]\n",
    "        else:\n",
    "            index = len(self._token_to_idx)\n",
    "            self._token_to_idx[token] = index\n",
    "            self._idx_to_token[index] = token\n",
    "            \n",
    "        return index\n",
    "    \n",
    "    # THIS FUNCTION WILL GIVE US THE INDEX ASSOCIATED TO A GIVEN TOKEN\n",
    "    # In this funtion, the method get returns the index given the token, if it does not find it then returns whatever it is\n",
    "    # in the second argument, in this case, the index of the unknown terms\n",
    "    def lookup_token(self,token):\n",
    "        if self._add_unk:\n",
    "            return self._token_to_idx.get(token,self.unk_index)\n",
    "        else:\n",
    "            return self._token_to_idx[token]\n",
    "    \n",
    "    # THIS FUNCTION WILL GIVE US THE TOKEN ASSOCIATED TO A GIVEN INDEX\n",
    "    def lookup_index(self, index):\n",
    "        if index not in self._idx_to_token:\n",
    "            raise KeyError('the index (%d) is not in the vocabulary' %index)\n",
    "        return self._idx_to_token[index]\n",
    "    \n",
    "    # IT BRINGS UP SOME SORT OF RESUME OF THE VOCABULARY OBJECT\n",
    "    def to_serializable(self):\n",
    "        return {'token_to_idx': self._token_to_idx,\n",
    "               'add_unk': self._add_unk,\n",
    "               'unk_token': self._unk_token}\n",
    "    \n",
    "    \n",
    "    \n",
    "    \n",
    "    # PENDING TO DEFINE THE REAL FUNTION OF THIS CLASSMETHOD, WAIT FOR THE BIGGER PICTURE TO DEFINE IT\n",
    "\n",
    "    def __len__(self):\n",
    "        return len(self._token_to_idx)"
   ]
  },
  {
   "cell_type": "code",
   "execution_count": 3,
   "metadata": {},
   "outputs": [],
   "source": [
    "# For initializating this class, first we need the data and the target in the form torch.Tensor and we will also need\n",
    "# the number of batchs that we want per epoch, we choose this parameter because it makes easier then for coding it\n",
    "\n",
    "class data_loader_luis():\n",
    "    def __init__(self,data,targets, n_batch):\n",
    "        self.num_samples, self.n_features = data.shape\n",
    "        self.data = data \n",
    "        self.targets = targets\n",
    "        self.index = np.arange(self.num_samples)\n",
    "        self.marker = 0 # this variable is going to take care that we are going through all the samples in each epoch\n",
    "        self.n_batch = n_batch\n",
    "        self.batch_size = round(self.num_samples / self.n_batch)\n",
    "    \n",
    "    def batch(self):\n",
    "        # After one round, we are going to try to shuffle the samples so they are not deliver in the same order that \n",
    "        # the previous epoch\n",
    "        \n",
    "        if self.marker == self.num_samples:\n",
    "            self.marker = 0\n",
    "            np.random.shuffle(self.index)\n",
    "       \n",
    "        if self.marker + self.batch_size <= self.num_samples:\n",
    "        \n",
    "            index_chosen_batch = self.index[self.marker:(self.marker + self.batch_size)]\n",
    "            self.marker = self.marker + self.batch_size\n",
    "            data_batch_return = self.data[index_chosen_batch,:]\n",
    "            targets_batch_return = self.targets[index_chosen_batch]\n",
    "            \n",
    "            return data_batch_return, targets_batch_return\n",
    "        \n",
    "        elif self.marker + self.batch_size > self.num_samples:\n",
    "            \n",
    "            leftovers_samples = self.num_samples - self.marker\n",
    "            \n",
    "            index_chosen_batch = self.index[self.marker:(self.marker + leftovers_samples)]\n",
    "            self.marker = self.marker + leftovers_samples\n",
    "            data_batch_return = self.data[index_chosen_batch,:]\n",
    "            targets_batch_return = self.targets[index_chosen_batch]\n",
    "            \n",
    "            return data_batch_return, targets_batch_return"
   ]
  },
  {
   "cell_type": "markdown",
   "metadata": {},
   "source": [
    "#### We're first going to create a vocabulary with the words in the train dataset, we are not using words from validation and test dataset because they are supposed to be unkown and we also want to test how good our model is doing without having any information about possible datasets that we have to evaluate"
   ]
  },
  {
   "cell_type": "code",
   "execution_count": 4,
   "metadata": {},
   "outputs": [],
   "source": [
    "class dataset_processing():\n",
    "    \n",
    "    def __init__(self,reviews,ratings,review_vocab,rating_vocab,number_words,validation,test):\n",
    "\n",
    "        self.review_vocab = review_vocab\n",
    "        self.rating_vocab = rating_vocab\n",
    "        self.number_words = number_words\n",
    "        \n",
    "        # train\n",
    "        self.reviews = reviews\n",
    "        self.ratings = ratings\n",
    "        \n",
    "        # validation\n",
    "        self.validation_reviews = validation.review\n",
    "        self.validation_rating = validation.rating\n",
    "        \n",
    "        # test\n",
    "        self.test_reviews = test.review\n",
    "        self.test_rating = test.rating\n",
    "        \n",
    "        # train, validation and test datasets encoded\n",
    "        self.train_encoded = None\n",
    "        self.validation_encoded = None\n",
    "        self.test_encoded = None\n",
    "    \n",
    "    @classmethod\n",
    "    def create_vocabulary(cls,train,validation,test,cutoff):\n",
    "        reviews = train.review\n",
    "        ratings = train.rating\n",
    "        review_vocab = vocabulary(add_unk = True)\n",
    "        rating_vocab = vocabulary(add_unk = False)\n",
    "        \n",
    "        word_count = collections.Counter()\n",
    "        for review in reviews:\n",
    "            for word in review.split(' '):\n",
    "                word_count[word] += 1\n",
    "                \n",
    "        for word, count in word_count.items():\n",
    "            if count>cutoff:\n",
    "                review_vocab.add_token(word)\n",
    "        \n",
    "        \n",
    "        for rating in sorted(set(ratings)):\n",
    "            rating_vocab.add_token(rating)\n",
    "           \n",
    "        number_words = len(review_vocab)\n",
    "         \n",
    "        return cls(reviews,ratings,review_vocab,rating_vocab,number_words,validation,test)\n",
    "        \n",
    "        \n",
    "    def vectorize(self,review):\n",
    "        one_hot = np.zeros(self.number_words)\n",
    "        for token in review.split(' '):\n",
    "            if token not in string.punctuation:\n",
    "                one_hot[self.review_vocab.lookup_token(token)] = 1\n",
    "        \n",
    "        return one_hot\n",
    "        \n",
    "        \n",
    "    def transform_data_one_hot_encoded(self,dataset):\n",
    "        \n",
    "        device = torch.device('cuda' if torch.cuda.is_available() else 'cpu')\n",
    "        \n",
    "        encoded_dataset = torch.zeros(0,self.number_words,dtype=torch.float64).to(device)\n",
    "\n",
    "        for review in dataset:\n",
    "            encoded_sample = torch.tensor(self.vectorize(review),dtype=torch.float64).reshape(1,-1).to(device)\n",
    "            encoded_dataset = torch.cat((encoded_dataset, encoded_sample), dim=0).to(device)\n",
    "      \n",
    "        return encoded_dataset.to(torch.device('cpu'))\n",
    "        \n",
    "    def transform_encoded_dataset(self):\n",
    "        \n",
    "        self.train_encoded = self.transform_data_one_hot_encoded(self.reviews)\n",
    "        self.validation_encoded = self.transform_data_one_hot_encoded(self.validation_reviews)\n",
    "        self.test_encoded = self.transform_data_one_hot_encoded(self.test_reviews)\n",
    "    \n",
    "    def __len__(self):\n",
    "        return len(self.review_vocab)"
   ]
  },
  {
   "cell_type": "markdown",
   "metadata": {},
   "source": [
    "##### Loading the datasets and transform them into the arrays for feeding them into the neural networks"
   ]
  },
  {
   "cell_type": "code",
   "execution_count": 5,
   "metadata": {},
   "outputs": [],
   "source": [
    "train = pd.read_csv('train.csv')\n",
    "validation = pd.read_csv('validation.csv')\n",
    "test = pd.read_csv('test.csv')"
   ]
  },
  {
   "cell_type": "code",
   "execution_count": 6,
   "metadata": {},
   "outputs": [],
   "source": [
    "dataset = dataset_processing.create_vocabulary(train,validation,test,25)"
   ]
  },
  {
   "cell_type": "code",
   "execution_count": 7,
   "metadata": {},
   "outputs": [],
   "source": [
    "dataset.transform_encoded_dataset()"
   ]
  },
  {
   "cell_type": "code",
   "execution_count": 8,
   "metadata": {},
   "outputs": [
    {
     "data": {
      "text/plain": [
       "2562"
      ]
     },
     "execution_count": 8,
     "metadata": {},
     "output_type": "execute_result"
    }
   ],
   "source": [
    "len(dataset)"
   ]
  },
  {
   "cell_type": "markdown",
   "metadata": {},
   "source": [
    "##### Model"
   ]
  },
  {
   "cell_type": "code",
   "execution_count": 9,
   "metadata": {},
   "outputs": [],
   "source": [
    "class MLP(nn.Module):\n",
    "    def __init__(self,num_features):\n",
    "        \n",
    "        super(MLP, self).__init__()\n",
    "        self.fc1 = nn.Linear(in_features = num_features, out_features = 1)\n",
    "        \n",
    "    def forward(self, x_in, apply_sigmoid=False):\n",
    "        y_out = self.fc1(x_in).squeeze()\n",
    "        if apply_sigmoid:\n",
    "            y_out = F.sigmoid(y_out)\n",
    "        return y_out"
   ]
  },
  {
   "cell_type": "code",
   "execution_count": 10,
   "metadata": {},
   "outputs": [],
   "source": [
    "model= MLP(len(dataset))"
   ]
  },
  {
   "cell_type": "code",
   "execution_count": 11,
   "metadata": {},
   "outputs": [
    {
     "data": {
      "text/plain": [
       "MLP(\n",
       "  (fc1): Linear(in_features=2562, out_features=1, bias=True)\n",
       ")"
      ]
     },
     "execution_count": 11,
     "metadata": {},
     "output_type": "execute_result"
    }
   ],
   "source": [
    "model"
   ]
  },
  {
   "cell_type": "markdown",
   "metadata": {},
   "source": [
    "##### Loss, optimizer and dataloader"
   ]
  },
  {
   "cell_type": "code",
   "execution_count": 12,
   "metadata": {},
   "outputs": [],
   "source": [
    "loss_function = nn.BCEWithLogitsLoss()\n",
    "optimizer = optim.SGD(params = model.parameters(), lr = 0.1)\n",
    "n_batch = 10\n",
    "device = torch.device('cuda' if torch.cuda.is_available() else 'cpu')\n",
    "\n",
    "# We create the datalader with the encoded train dataset and the ratings of the training dataset\n",
    "loader = data_loader_luis(dataset.train_encoded,torch.tensor(dataset.ratings.values),n_batch)"
   ]
  },
  {
   "cell_type": "markdown",
   "metadata": {},
   "source": [
    "##### Training Loop"
   ]
  },
  {
   "cell_type": "code",
   "execution_count": 13,
   "metadata": {
    "scrolled": false
   },
   "outputs": [],
   "source": [
    "n_epochs = 200\n",
    "error = []\n",
    "error_validation = []\n",
    "\n",
    "\n",
    "for epoch_i in range(n_epochs):\n",
    "    for batch_i in range(n_batch):\n",
    "    \n",
    "        # Step 0: Generate the data for training\n",
    "        x_data, targets = loader.batch()\n",
    "        \n",
    "        \n",
    "        # Step 1: set up all the gradients in the model to zero, in order to avoid the accumulation of  \n",
    "        # the gradients in each iteration\n",
    "        model.zero_grad()\n",
    "        \n",
    "        \n",
    "        # Step 2: compute the forward pass of the model\n",
    "        y_pred = model(x_data.float().squeeze()).to(device)\n",
    "        y_pred_validation = model(dataset.validation_encoded.float()).to(device)\n",
    "        \n",
    "        # Step 3: Compute the loss value that we wish to optimize\n",
    "        loss = loss_function(y_pred,targets.float().to(device))\n",
    "        loss_validation = loss_function(y_pred_validation,torch.Tensor(dataset.validation_rating).to(device))\n",
    "        error.append(loss.to(torch.device('cpu')))\n",
    "        error_validation.append(loss_validation.to(torch.device('cpu')))\n",
    "        \n",
    "        \n",
    "        # Step 4: Propagate the loss signal backwards\n",
    "        loss.backward()\n",
    "        \n",
    "        \n",
    "        # Step 5: Trigger the optimizer to perfomr the update\n",
    "        optimizer.step()\n",
    "    "
   ]
  },
  {
   "cell_type": "code",
   "execution_count": 14,
   "metadata": {
    "scrolled": true
   },
   "outputs": [
    {
     "data": {
      "text/plain": [
       "[<matplotlib.lines.Line2D at 0x18383e040f0>]"
      ]
     },
     "execution_count": 14,
     "metadata": {},
     "output_type": "execute_result"
    },
    {
     "data": {
      "image/png": "[encoded data removed]",
      "text/plain": [
       "<Figure size 432x288 with 1 Axes>"
      ]
     },
     "metadata": {
      "needs_background": "light"
     },
     "output_type": "display_data"
    }
   ],
   "source": [
    "plt.plot(error)\n",
    "plt.plot(error_validation)"
   ]
  },
  {
   "cell_type": "code",
   "execution_count": 15,
   "metadata": {},
   "outputs": [],
   "source": [
    "y_pred_validation = model(dataset.validation_encoded.float())"
   ]
  },
  {
   "cell_type": "code",
   "execution_count": 16,
   "metadata": {},
   "outputs": [],
   "source": [
    "def classifier(y_pred):\n",
    "    y_pred_class = []\n",
    "    for output in y_pred:\n",
    "        if output > 0.5:\n",
    "            y_pred_class.append(1)\n",
    "        else:\n",
    "            y_pred_class.append(0)\n",
    "    return y_pred_class"
   ]
  },
  {
   "cell_type": "code",
   "execution_count": 17,
   "metadata": {},
   "outputs": [],
   "source": [
    "def accuracy(y_pred,true_target):\n",
    "    \n",
    "    y_pred_class = classifier(y_pred)\n",
    "    true_target = list(true_target)\n",
    "    count = 0\n",
    "    for i in range(len(y_pred_class)):\n",
    "        if y_pred_class[i]==true_target[i]:\n",
    "            count += 1\n",
    "        else:\n",
    "            pass\n",
    "    return count/len(y_pred_class)"
   ]
  },
  {
   "cell_type": "code",
   "execution_count": 18,
   "metadata": {},
   "outputs": [
    {
     "data": {
      "text/plain": [
       "0.826"
      ]
     },
     "execution_count": 18,
     "metadata": {},
     "output_type": "execute_result"
    }
   ],
   "source": [
    "accuracy(y_pred_validation,dataset.validation_rating)"
   ]
  },
  {
   "cell_type": "code",
   "execution_count": 19,
   "metadata": {},
   "outputs": [],
   "source": [
    "y_pred_test = model(dataset.test_encoded.float())"
   ]
  },
  {
   "cell_type": "code",
   "execution_count": null,
   "metadata": {},
   "outputs": [],
   "source": [
    "accuracy(y_pred_test,dataset.test_rating)"
   ]
  },
  {
   "cell_type": "code",
   "execution_count": null,
   "metadata": {},
   "outputs": [],
   "source": []
  }
 ],
 "metadata": {
  "kernelspec": {
   "display_name": "Python 3",
   "language": "python",
   "name": "python3"
  },
  "language_info": {
   "codemirror_mode": {
    "name": "ipython",
    "version": 3
   },
   "file_extension": ".py",
   "mimetype": "text/x-python",
   "name": "python",
   "nbconvert_exporter": "python",
   "pygments_lexer": "ipython3",
   "version": "3.6.1"
  }
 },
 "nbformat": 4,
 "nbformat_minor": 2
}
